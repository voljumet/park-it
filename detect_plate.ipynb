{
 "cells": [
  {
   "cell_type": "code",
   "execution_count": null,
   "metadata": {},
   "outputs": [],
   "source": [
    "# Code: https://github.com/deepakat002/numberplaterecognition\n",
    "# Model(best.pt): https://github.com/pracool/ANPR-with-YoloV5"
   ]
  },
  {
   "cell_type": "code",
   "execution_count": 11,
   "metadata": {},
   "outputs": [
    {
     "name": "stdout",
     "output_type": "stream",
     "text": [
      "Collecting package metadata (current_repodata.json): done\n",
      "Solving environment: done\n",
      "\n",
      "## Package Plan ##\n",
      "\n",
      "  environment location: /opt/homebrew/Caskroom/miniforge/base/envs/park-3.9\n",
      "\n",
      "  added / updated specs:\n",
      "    - pytesseract=0.3.10\n",
      "\n",
      "\n",
      "The following packages will be downloaded:\n",
      "\n",
      "    package                    |            build\n",
      "    ---------------------------|-----------------\n",
      "    leptonica-1.82.0           |       h37c441e_0         1.6 MB\n",
      "    libarchive-3.6.1           |       he3a3bf9_0         751 KB\n",
      "    openjpeg-2.3.0             |       h7a6adac_2         274 KB\n",
      "    pillow-9.2.0               |   py39h4d1bdd5_1         603 KB\n",
      "    pytesseract-0.3.10         |   py39hca03da5_0          39 KB\n",
      "    tesseract-5.2.0            |       hc377ac9_0       167.9 MB\n",
      "    ------------------------------------------------------------\n",
      "                                           Total:       171.2 MB\n",
      "\n",
      "The following NEW packages will be INSTALLED:\n",
      "\n",
      "  bzip2              pkgs/main/osx-arm64::bzip2-1.0.8-h620ffc9_4\n",
      "  freetype           pkgs/main/osx-arm64::freetype-2.12.1-h1192e45_0\n",
      "  giflib             pkgs/main/osx-arm64::giflib-5.2.1-h1a28f6b_0\n",
      "  icu                pkgs/main/osx-arm64::icu-68.1-hc377ac9_0\n",
      "  jpeg               pkgs/main/osx-arm64::jpeg-9e-h1a28f6b_0\n",
      "  lcms2              pkgs/main/osx-arm64::lcms2-2.12-hba8e193_0\n",
      "  leptonica          pkgs/main/osx-arm64::leptonica-1.82.0-h37c441e_0\n",
      "  lerc               pkgs/main/osx-arm64::lerc-3.0-hc377ac9_0\n",
      "  libarchive         pkgs/main/osx-arm64::libarchive-3.6.1-he3a3bf9_0\n",
      "  libdeflate         pkgs/main/osx-arm64::libdeflate-1.8-h1a28f6b_5\n",
      "  libiconv           pkgs/main/osx-arm64::libiconv-1.16-h1a28f6b_2\n",
      "  libpng             pkgs/main/osx-arm64::libpng-1.6.37-hb8d0fd4_0\n",
      "  libtiff            pkgs/main/osx-arm64::libtiff-4.4.0-h2fd578a_2\n",
      "  libwebp            pkgs/main/osx-arm64::libwebp-1.2.4-h68602c7_0\n",
      "  libwebp-base       pkgs/main/osx-arm64::libwebp-base-1.2.4-h1a28f6b_0\n",
      "  libxml2            pkgs/main/osx-arm64::libxml2-2.9.14-h8c5e841_0\n",
      "  lz4-c              pkgs/main/osx-arm64::lz4-c-1.9.3-hc377ac9_0\n",
      "  openjpeg           pkgs/main/osx-arm64::openjpeg-2.3.0-h7a6adac_2\n",
      "  pillow             pkgs/main/osx-arm64::pillow-9.2.0-py39h4d1bdd5_1\n",
      "  pytesseract        pkgs/main/osx-arm64::pytesseract-0.3.10-py39hca03da5_0\n",
      "  tesseract          pkgs/main/osx-arm64::tesseract-5.2.0-hc377ac9_0\n",
      "  zstd               pkgs/main/osx-arm64::zstd-1.5.2-h8574219_0\n",
      "\n",
      "\n",
      "\n",
      "Downloading and Extracting Packages\n",
      "libarchive-3.6.1     | 751 KB    | ##################################### | 100% \n",
      "pytesseract-0.3.10   | 39 KB     | ##################################### | 100% \n",
      "openjpeg-2.3.0       | 274 KB    | ##################################### | 100% \n",
      "leptonica-1.82.0     | 1.6 MB    | ##################################### | 100% \n",
      "tesseract-5.2.0      | 167.9 MB  | ##################################### | 100% \n",
      "pillow-9.2.0         | 603 KB    | ##################################### | 100% \n",
      "Preparing transaction: done\n",
      "Verifying transaction: done\n",
      "Executing transaction: done\n",
      "\n",
      "Note: you may need to restart the kernel to use updated packages.\n"
     ]
    }
   ],
   "source": [
    "# %pip install easyocr==1.6.2\n",
    "# %conda install pytesseract=0.3.10 -y"
   ]
  },
  {
   "cell_type": "code",
   "execution_count": 1,
   "metadata": {},
   "outputs": [
    {
     "name": "stderr",
     "output_type": "stream",
     "text": [
      "/opt/homebrew/Caskroom/miniforge/base/envs/park-3.9/lib/python3.9/site-packages/tqdm/auto.py:22: TqdmWarning: IProgress not found. Please update jupyter and ipywidgets. See https://ipywidgets.readthedocs.io/en/stable/user_install.html\n",
      "  from .autonotebook import tqdm as notebook_tqdm\n"
     ]
    }
   ],
   "source": [
    "import easyocr"
   ]
  },
  {
   "cell_type": "code",
   "execution_count": 2,
   "metadata": {},
   "outputs": [],
   "source": [
    "# importing required libraries\n",
    "import cv2\n",
    "import numpy as np\n",
    "import pytesseract\n",
    "import torch\n",
    "from datetime import datetime\n",
    "import csv\n",
    "import os\n",
    "import pandas as pd\n",
    "import matplotlib.pyplot as plt\n",
    "from PIL import Image"
   ]
  },
  {
   "cell_type": "code",
   "execution_count": 3,
   "metadata": {},
   "outputs": [
    {
     "name": "stderr",
     "output_type": "stream",
     "text": [
      "CUDA not available - defaulting to CPU. Note: This module is much faster with a GPU.\n"
     ]
    }
   ],
   "source": [
    "# DEFINING GLOBAL VARIABLE\n",
    "EASY_OCR = easyocr.Reader(['en'])  # initiating easyocr\n",
    "OCR_TH = 0.2\n",
    "\n",
    "# Global Variables for text regecnitioin\n",
    "SCREEN_WIDTH = 128\n",
    "SCREEN_HEIGHT = 64\n"
   ]
  },
  {
   "cell_type": "code",
   "execution_count": 4,
   "metadata": {},
   "outputs": [],
   "source": [
    "# -------------------------------------- function to run detection ---------------------------------------------------------\n",
    "def detectx(frame, model):\n",
    "    frame = [frame]\n",
    "    results = model(frame)\n",
    "    labels, cordinates = results.xyxyn[0][:, -1], results.xyxyn[0][:, :-1]\n",
    "    return labels, cordinates"
   ]
  },
  {
   "cell_type": "code",
   "execution_count": 80,
   "metadata": {},
   "outputs": [],
   "source": [
    "\n",
    "# ---------------------------- function to recognize license plate --------------------------------------\n",
    "\n",
    "\n",
    "# function to recognize license plate numbers using Tesseract OCR\n",
    "def recognize_plate_easyocr(img, coords, reader, region_threshold):\n",
    "    # separate coordinates from box\n",
    "    xmin, ymin, xmax, ymax = coords\n",
    "    # get the subimage that makes up the bounded region and take an additional 5 pixels on each side\n",
    "    #nplate = img[int(ymin)+15:int(ymax)-5, int(xmin)+12:int(xmax)-12]\n",
    "    # cropping the number plate from the whole image\n",
    "\n",
    "    nplate = img[int(ymin):int(ymax), int(xmin):int(xmax)]\n",
    "    # delete the left side with 10 px of the image\n",
    "    nplate = nplate[:, 35:]\n",
    "\n",
    "    # convert nplate to gray\n",
    "    nplate = cv2.cvtColor(nplate, cv2.COLOR_BGR2GRAY)\n",
    "    #display(Image.fromarray(nplate))\n",
    "    \n",
    "    scale_factor = 6\n",
    "    scaled_img = cv2.resize(nplate[1:50, 0:SCREEN_WIDTH], (0,0), fx=scale_factor, fy=scale_factor, interpolation=cv2.INTER_CUBIC)\n",
    "    assert(scaled_img is not None)\n",
    "    #display(Image.fromarray(scaled_img))\n",
    "\n",
    "    thres,thres_img = cv2.threshold(nplate, 0, 255, cv2.THRESH_BINARY|cv2.THRESH_OTSU)\n",
    "    assert(thres_img is not None)\n",
    "    #display(Image.fromarray(thres_img))\n",
    "\n",
    "    ############################ Using Pytesseract to extract text from image ########################################\n",
    "    text_1 = pytesseract.image_to_string(thres_img, config='--user-words words.txt config.txt')\n",
    "    print('Text prediciton using Pytesseract:\"{}\"'.format(text_1)) \n",
    "    #############################################################################################################\n",
    "\n",
    "    ####################################### using EasyORC to extract text ###############################################################\n",
    "    ocr_result = reader.readtext(nplate)\n",
    "    text = filter_text(region=nplate, ocr_result=ocr_result,\n",
    "                        region_threshold=region_threshold)\n",
    "    if len(text) == 1:\n",
    "        text = text[0].upper()\n",
    "        print(\"Text prediction using EasyOCR: \", text)\n",
    "        return text\n",
    "    else:\n",
    "        return None\n",
    "    #############################################################################################################\n",
    "    \n",
    "   \n"
   ]
  },
  {
   "cell_type": "code",
   "execution_count": 79,
   "metadata": {},
   "outputs": [],
   "source": [
    "# ------------------------------------ to plot the BBox and results --------------------------------------------------------\n",
    "\n",
    "\n",
    "def plot_boxes(results, frame, classes):\n",
    "    \"\"\"\n",
    "    --> This function takes results, frame and classes\n",
    "    --> results: contains labels and coordinates predicted by model on the given frame\n",
    "    --> classes: contains the string labels\n",
    "    \"\"\"\n",
    "    labels, cord = results\n",
    "    n = len(labels)\n",
    "    x_shape, y_shape = frame.shape[1], frame.shape[0]\n",
    "\n",
    "    # looping through the detections\n",
    "    for i in range(n):\n",
    "        row = cord[i]\n",
    "        if row[4] >= 0.55:  # threshold value for detection. We are discarding everything below this value\n",
    "            x1, y1, x2, y2 = int(row[0]*x_shape), int(row[1]*y_shape), int(\n",
    "                row[2]*x_shape), int(row[3]*y_shape)  # BBOx coordniates\n",
    "            coords = [x1, y1, x2, y2]\n",
    "            plate_num = recognize_plate_easyocr(\n",
    "                img=frame, coords=coords, reader=EASY_OCR, region_threshold=OCR_TH)\n",
    "            return plate_num\n"
   ]
  },
  {
   "cell_type": "code",
   "execution_count": 32,
   "metadata": {},
   "outputs": [],
   "source": [
    "def filter_text(region, ocr_result, region_threshold):\n",
    "    \"\"\" to filter out wrong detections \"\"\"\n",
    "    rectangle_size = region.shape[0]*region.shape[1]\n",
    "\n",
    "    plate = []\n",
    "    for result in ocr_result:\n",
    "        length = np.sum(np.subtract(result[0][1], result[0][0]))\n",
    "        height = np.sum(np.subtract(result[0][2], result[0][1]))\n",
    "\n",
    "        if length*height / rectangle_size > region_threshold:\n",
    "            plate.append(result[1])\n",
    "            \n",
    "    return plate\n"
   ]
  },
  {
   "cell_type": "code",
   "execution_count": 33,
   "metadata": {},
   "outputs": [],
   "source": [
    "# ---------------------------------------------- Main function -----------------------------------------------------\n",
    "\n",
    "def license_plate_to_text(image):\n",
    "    \"\"\" this function uses an image as argument, and returns the text that it extracted from the image \"\"\"\n",
    "    model = torch.hub.load('./yolov5', 'custom', source='local',\n",
    "                           path='weights/best_submission.pt', force_reload=True)  # The repo is stored locally\n",
    "\n",
    "    classes = model.names  # class names in string format\n",
    "    # --------------- for detection on image --------------------\n",
    "\n",
    "    results = detectx(image, model=model)  # DETECTION HAPPENING HERE\n",
    "\n",
    "    frame = cv2.cvtColor(image, cv2.COLOR_RGB2BGR)\n",
    "\n",
    "    plate_num = plot_boxes(results, frame, classes=classes)\n",
    "   \n",
    "    return plate_num"
   ]
  },
  {
   "cell_type": "code",
   "execution_count": 34,
   "metadata": {},
   "outputs": [],
   "source": [
    "import multiprocessing\n",
    "\n",
    "def double(a):\n",
    "    return a * 2\n",
    "\n",
    "\n",
    "def driver_func():\n",
    "    PROCESSES = 2\n",
    "    with multiprocessing.Pool(PROCESSES) as pool:\n",
    "        params = [(1, ), (2, ), (3, ), (4, )]\n",
    "        results = [pool.apply_async(double, p) for p in params]\n",
    "\n",
    "        for r in results:\n",
    "            print('\\t', r.get())\n"
   ]
  },
  {
   "cell_type": "markdown",
   "metadata": {},
   "source": []
  },
  {
   "cell_type": "code",
   "execution_count": 35,
   "metadata": {},
   "outputs": [
    {
     "ename": "ModuleNotFoundError",
     "evalue": "No module named 'multi'",
     "output_type": "error",
     "traceback": [
      "\u001b[0;31m---------------------------------------------------------------------------\u001b[0m",
      "\u001b[0;31mModuleNotFoundError\u001b[0m                       Traceback (most recent call last)",
      "Cell \u001b[0;32mIn [35], line 1\u001b[0m\n\u001b[0;32m----> 1\u001b[0m \u001b[39mimport\u001b[39;00m \u001b[39mmulti\u001b[39;00m\n",
      "\u001b[0;31mModuleNotFoundError\u001b[0m: No module named 'multi'"
     ]
    }
   ],
   "source": [
    "import multi\n",
    "# driver_func()"
   ]
  },
  {
   "cell_type": "code",
   "execution_count": 36,
   "metadata": {},
   "outputs": [
    {
     "ename": "NameError",
     "evalue": "name 'multi' is not defined",
     "output_type": "error",
     "traceback": [
      "\u001b[0;31m---------------------------------------------------------------------------\u001b[0m",
      "\u001b[0;31mNameError\u001b[0m                                 Traceback (most recent call last)",
      "Cell \u001b[0;32mIn [36], line 1\u001b[0m\n\u001b[0;32m----> 1\u001b[0m multi\u001b[39m.\u001b[39mdriver()\n",
      "\u001b[0;31mNameError\u001b[0m: name 'multi' is not defined"
     ]
    }
   ],
   "source": [
    "multi.driver()"
   ]
  },
  {
   "cell_type": "code",
   "execution_count": 78,
   "metadata": {},
   "outputs": [],
   "source": [
    "# string1 = \"PD32939\"\n",
    "# string2 = \"PD22939\"\n",
    "# string3 = \"PD32248\"\n",
    "# strings = [string1, string2, string3]\n",
    "\n",
    "def filter_plate_text(strings):\n",
    "    result = []\n",
    "    for i in range(0, len(strings[0])):\n",
    "        if strings[0][i] == strings[1][i] or strings[0][i] == strings[2][i]:\n",
    "            result.append(strings[0][i])\n",
    "        elif strings[1][i] == strings[2][i]:\n",
    "            result.append(strings[1][i])\n",
    "    # merge the list to a string\n",
    "    result = \"\".join(result)\n",
    "    return result"
   ]
  },
  {
   "cell_type": "code",
   "execution_count": 39,
   "metadata": {},
   "outputs": [],
   "source": [
    "def write_to_csv_drive_in(_plate_number):   \n",
    "    # Headrs for the csv files\n",
    "    drive_in_colums_headers = ['Plate Number', 'Date and time']\n",
    "    drive_out_colums_headers = ['Plate Number', 'Drive in time', 'Drive out time', 'Duration']\n",
    "\n",
    "    # This will change with accual value \n",
    "    plate_number = _plate_number\n",
    "\n",
    "    #########  get the current date and time #######\n",
    "    now = datetime.now()\n",
    "    # dd/mm/YY H:M:S\n",
    "    dt_string = now.strftime(\"%d/%m/%Y %H:%M:%S\")\n",
    "    #############################################\n",
    "\n",
    "\n",
    "\n",
    "    # if the header is already written, then don't write it again. If not, then write it\n",
    "    if not os.path.exists('drive_in.csv'):\n",
    "        with open('drive_in.csv', 'w') as f:\n",
    "            writer = csv.writer(f)\n",
    "            writer.writerow(drive_in_colums_headers)\n",
    "            writer.writerow([plate_number,dt_string])\n",
    "    else:\n",
    "        with open('drive_in.csv', 'a') as f:\n",
    "            writer = csv.writer(f)\n",
    "            writer.writerow([plate_number,dt_string])\n",
    "\n",
    "    if not os.path.exists('drive_out.csv'):\n",
    "        with open('drive_out.csv', 'w') as f:\n",
    "            writer = csv.writer(f)\n",
    "            writer.writerow(drive_out_colums_headers)\n",
    "            writer.writerow([plate_number,dt_string])\n",
    "    else:\n",
    "        with open('drive_out.csv', 'a') as f:\n",
    "            writer = csv.writer(f)\n",
    "            writer.writerow([plate_number,dt_string])\n",
    "    return\n"
   ]
  },
  {
   "cell_type": "code",
   "execution_count": 40,
   "metadata": {},
   "outputs": [],
   "source": [
    "def delete_row_from_csv(_plate_number, file_name):\n",
    "    df = pd.read_csv(file_name+'.csv')\n",
    "    df = df[df['Plate Number'] != _plate_number]\n",
    "    df.to_csv('drive_in.csv', index=False)\n",
    "    return"
   ]
  },
  {
   "cell_type": "code",
   "execution_count": 73,
   "metadata": {},
   "outputs": [],
   "source": [
    "def write_to_csv_drive_out(_plate_number):\n",
    "    \"\"\" this function takes the plate number as argument, and writes it to the drive_out.csv file \"\"\"\n",
    "    # This will change with accual value\n",
    "    plate_number = _plate_number\n",
    "\n",
    "    #########  get the current date and time####\n",
    "    now = datetime.now()\n",
    "    # dd/mm/YY H:M:S\n",
    "    dt_string = now.strftime(\"%d/%m/%Y %H:%M:%S\")\n",
    "    #############################################\n",
    "\n",
    "    # read the csv file\n",
    "    df = pd.read_csv('drive_out.csv')\n",
    "\n",
    "    # find the row with the plate number where the drive out time is empty\n",
    "    assert df['Drive out time'].isnull().sum() == 1, \"The car is not in the parking lot\"\n",
    "    row = df.loc[(df['Plate Number'] == plate_number) & (df['Drive out time'].isnull())]\n",
    "\n",
    "    # get the index of the row\n",
    "    index = row.index[0]\n",
    "\n",
    "    # update the drive out time for the plate number\n",
    "    df.at[index, 'Drive out time'] = dt_string\n",
    "\n",
    "    # calculate the duration\n",
    "    drive_in_time = df.at[index, 'Drive in time']\n",
    "    drive_out_time = df.at[index, 'Drive out time']\n",
    "    drive_in_time = datetime.strptime(drive_in_time, \"%d/%m/%Y %H:%M:%S\")\n",
    "    drive_out_time = datetime.strptime(drive_out_time, \"%d/%m/%Y %H:%M:%S\")\n",
    "    duration = drive_out_time - drive_in_time\n",
    "\n",
    "    # update the duration\n",
    "    df.at[index, 'Duration'] = duration\n",
    "\n",
    "    # Drop the row with the plate number from the drive_in.csv file\n",
    "    delete_row_from_csv(plate_number, 'drive_in')\n",
    "\n",
    "    # save the updated csv file\n",
    "    df.to_csv('drive_out.csv', index=False)\n",
    "\n",
    "    # print the updated csv file\n",
    "    print(df)\n",
    "    return\n",
    "\n"
   ]
  },
  {
   "cell_type": "code",
   "execution_count": 83,
   "metadata": {},
   "outputs": [],
   "source": [
    "def detect_and_log_cars(car_array):\n",
    "    drive_in, images = car_array\n",
    "    output = []\n",
    "    # loop through the three images\n",
    "    for i in range(3):\n",
    "        # print \"working with image number: \", i\n",
    "        # call the main function\n",
    "        plate_num = license_plate_to_text(images[i])\n",
    "        # remve the space in the plate number\n",
    "        plate_num = plate_num.replace(\" \", \"\")\n",
    "        # save the output to a list\n",
    "        output.append(plate_num)\n",
    "    \n",
    "    detected_license_plate = filter_plate_text(output)\n",
    "    print(\"detected_license_plate: \", detected_license_plate)\n",
    "\n",
    "    if drive_in:\n",
    "        print(f\"the car with licence palte {detected_license_plate} driving in\")\n",
    "        write_to_csv_drive_in(detected_license_plate)\n",
    "    else:\n",
    "        print(f\"the car with licence palte {detected_license_plate} driving out\")\n",
    "        write_to_csv_drive_out(detected_license_plate)"
   ]
  },
  {
   "cell_type": "code",
   "execution_count": 81,
   "metadata": {},
   "outputs": [],
   "source": [
    "# image1 = cv2.imread(\"runs/track/exp/frame id_341.jpg\")\n",
    "# image2 = cv2.imread(\"runs/track/exp/frame id_346.jpg\")\n",
    "# image3 = cv2.imread(\"runs/track/exp/frame id_351.jpg\")\n",
    "# images = [image1, image2, image3]\n",
    "\n",
    "# alex_array = []\n",
    "# # add strings array to alex_array\n",
    "# alex_array.append(True)\n",
    "# alex_array.append(images)\n"
   ]
  },
  {
   "cell_type": "code",
   "execution_count": 84,
   "metadata": {},
   "outputs": [
    {
     "name": "stderr",
     "output_type": "stream",
     "text": [
      "YOLOv5 🚀 2022-12-2 Python-3.9.15 torch-1.13.0 CPU\n",
      "\n",
      "Fusing layers... \n",
      "YOLOv5s summary: 232 layers, 7246518 parameters, 0 gradients\n",
      "Adding AutoShape... \n"
     ]
    },
    {
     "name": "stdout",
     "output_type": "stream",
     "text": [
      "[INFO] Detecting. . . \n",
      "Text prediciton using Pytesseract:\"\"\n"
     ]
    },
    {
     "name": "stderr",
     "output_type": "stream",
     "text": [
      "YOLOv5 🚀 2022-12-2 Python-3.9.15 torch-1.13.0 CPU\n",
      "\n",
      "Fusing layers... \n",
      "YOLOv5s summary: 232 layers, 7246518 parameters, 0 gradients\n",
      "Adding AutoShape... \n"
     ]
    },
    {
     "name": "stdout",
     "output_type": "stream",
     "text": [
      "Text prediction using EasyOCR:  PD 32939\n",
      "[INFO] Detecting. . . \n"
     ]
    },
    {
     "name": "stderr",
     "output_type": "stream",
     "text": [
      "YOLOv5 🚀 2022-12-2 Python-3.9.15 torch-1.13.0 CPU\n",
      "\n",
      "Fusing layers... \n"
     ]
    },
    {
     "name": "stdout",
     "output_type": "stream",
     "text": [
      "Text prediciton using Pytesseract:\"HPD 32939}\n",
      "\"\n",
      "Text prediction using EasyOCR:  PD 32939\n"
     ]
    },
    {
     "name": "stderr",
     "output_type": "stream",
     "text": [
      "YOLOv5s summary: 232 layers, 7246518 parameters, 0 gradients\n",
      "Adding AutoShape... \n"
     ]
    },
    {
     "name": "stdout",
     "output_type": "stream",
     "text": [
      "[INFO] Detecting. . . \n",
      "Text prediciton using Pytesseract:\"IPD 32939}\n",
      "\"\n",
      "Text prediction using EasyOCR:  PD32939\n",
      "detected_license_plate:  PD32939\n",
      "the car with licence palte PD32939 driving in\n"
     ]
    }
   ],
   "source": [
    "detect_and_log_cars(alex_array)"
   ]
  },
  {
   "cell_type": "code",
   "execution_count": null,
   "metadata": {},
   "outputs": [],
   "source": [
    "# ALEX CODE \n",
    "\n",
    "def load_data(file_pth):\n",
    "    data_file = glob.glob('runs/track/'+file_pth+'/tracks/*.csv')\n",
    "    with open(data_file[0], 'r') as f:\n",
    "        data = list(csv.reader(f))\n",
    "        f.close()\n",
    "        return  [[float(x) for x in row] for row in data]\n",
    "\n",
    "\n",
    "def delete_data(all_ids, file_pth):\n",
    "    data_file = glob.glob('runs/track/'+file_pth+'/tracks/*.csv')\n",
    "    keep_rows = list()\n",
    "    with open(data_file[0], 'r') as f:\n",
    "        data = list(csv.reader(f))\n",
    "        for row in data:\n",
    "            if int(float(row[1])) not in all_ids:\n",
    "                keep_rows.append(row)\n",
    "\n",
    "    # write the rows we want to keep to the file\n",
    "    with open(data_file[0], 'w') as f:\n",
    "        writer = csv.writer(f)\n",
    "        writer.writerows(keep_rows)\n",
    "\n",
    "    f.close()\n",
    "\n",
    "\n",
    "def sort_into_dict(data, number_of_cars_in_file):\n",
    "    dict = {}\n",
    "    for each_entry in data:\n",
    "        frame_number = int(each_entry[0])\n",
    "        car_id = int(each_entry[1])\n",
    "        bounding_box_and_time = [each_entry[2:6], each_entry[6]]\n",
    "\n",
    "        # check if id already exists in dict then append the data to the list with the frame number as key\n",
    "        if car_id in dict:\n",
    "            dict[car_id][frame_number] = bounding_box_and_time\n",
    "        else:\n",
    "            dict[car_id] = {frame_number: bounding_box_and_time}\n",
    "\n",
    "\n",
    "    # remove the ids that have less than 5 entries because:\n",
    "    # they might be cars that are on their way in our out of the frame or just noise\n",
    "    ids_to_remove = []\n",
    "    for each_id in dict: \n",
    "        if len(dict[each_id]) < number_of_cars_in_file:\n",
    "            ids_to_remove.append(each_id)\n",
    "\n",
    "    for each_id in ids_to_remove:\n",
    "        del dict[each_id]\n",
    "\n",
    "    return dict\n",
    "\n",
    "\n",
    "def get_best_license_plate(car_dict,frame_width):\n",
    "    car_entering = False\n",
    "    sorting_list = []\n",
    "    \n",
    "    for frame_number in car_dict:\n",
    "        # frame = each[0]\n",
    "        size = car_dict[frame_number][0][-1] * car_dict[frame_number][0][-2]\n",
    "        right_side = car_dict[frame_number][0][0] + car_dict[frame_number][0][2]\n",
    "        left_side = car_dict[frame_number][0][0]\n",
    "        \n",
    "        if (left_side > 5) and (right_side < (frame_width-5)):\n",
    "            sorting_list.append((frame_number, size))\n",
    "\n",
    "    # sort the list by bounding box size\n",
    "    sorting_list.sort(key=lambda x: x[1], reverse=True)\n",
    "\n",
    "    # check if the biggest frame is the first or last frame, which means the car is entering or leaving the frame\n",
    "    length_of_sort = len(sorting_list)-1\n",
    "    if sorting_list[0][0] > sorting_list[length_of_sort][0] and sorting_list[0][0] > sorting_list[int(length_of_sort/2)][0]:\n",
    "        car_entering = True\n",
    "\n",
    "    # return boolean if car is entering or leaving the parking lot, and the frame numbers of the 3 biggest bounding boxes found\n",
    "    return car_entering, [x[0] for x in sorting_list[:3]]\n",
    "\n",
    "\n",
    "def load_image(frame_number, bounding_box_array, file_pth):\n",
    "    # load image\n",
    "    img = cv2.imread('runs/track/'+file_pth+'/frame id_'+str(frame_number)+'.jpg')\n",
    "    # crop the image to the size of the bounding box\n",
    "    img = img[int(bounding_box_array[1]):int(bounding_box_array[1]+bounding_box_array[3]), int(bounding_box_array[0]):int(bounding_box_array[0]+bounding_box_array[2])]\n",
    "    return img\n",
    "\n",
    "\n",
    "def get_car_images(car_dict, file_pth, frame_width):\n",
    "    car_array = []\n",
    "    for car_id in car_dict:\n",
    "        # get the best license plate for each car\n",
    "        car_entering, frames = get_best_license_plate(car_dict[car_id], frame_width)\n",
    "        cropped_car_images = []\n",
    "        for each_frame in frames:\n",
    "            img = load_image(each_frame, car_dict[car_id][each_frame][0], file_pth)\n",
    "            cropped_car_images.append(img)\n",
    "        \n",
    "        car_array.append([car_entering, cropped_car_images])\n",
    "\n",
    "    return car_array\n",
    "\n",
    "\n",
    "def delete_images(car_dictionary, file_pth):\n",
    "    # frames with multiple cars\n",
    "    # frames with no cars\n",
    "\n",
    "    for car_id in car_dictionary:\n",
    "        for frame in car_dictionary[car_id]:\n",
    "            os.remove('runs/track/'+file_pth+'/frame id_'+str(frame)+'.jpg')\n",
    "\n",
    "\n",
    "# TODO: if frame contains multiple cars, do not delete the image\n",
    "\n",
    "def fetch_cars(number_of_cars_in_file, file_pth, frame_width):\n",
    "    # load data from csv file\n",
    "    data = load_data(file_pth)\n",
    "\n",
    "    # sort data into dictionary\n",
    "    car_dictionary = sort_into_dict(data, number_of_cars_in_file)\n",
    "\n",
    "    # delete the loaded data from the csv file\n",
    "    delete_data(list(car_dictionary.keys()), file_pth)\n",
    "\n",
    "    # get the 3 best license plate photos for each car and the direction of the car\n",
    "    car_array = get_car_images(car_dictionary, file_pth, frame_width)\n",
    "    \n",
    "    # delete the images containing the cars extracted\n",
    "    delete_images(car_dictionary, file_pth)\n",
    "\n",
    "    return car_array"
   ]
  }
 ],
 "metadata": {
  "kernelspec": {
   "display_name": "Python 3.9.15 ('park-3.9')",
   "language": "python",
   "name": "python3"
  },
  "language_info": {
   "codemirror_mode": {
    "name": "ipython",
    "version": 3
   },
   "file_extension": ".py",
   "mimetype": "text/x-python",
   "name": "python",
   "nbconvert_exporter": "python",
   "pygments_lexer": "ipython3",
   "version": "3.9.15"
  },
  "vscode": {
   "interpreter": {
    "hash": "8c78971681c6377feb4c3618006d2345508a16adb1ec61e460d27689553b2b85"
   }
  }
 },
 "nbformat": 4,
 "nbformat_minor": 2
}
