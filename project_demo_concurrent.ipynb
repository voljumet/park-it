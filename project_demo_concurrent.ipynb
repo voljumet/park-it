{
 "cells": [
  {
   "cell_type": "markdown",
   "metadata": {},
   "source": [
    "# Park a lot\n",
    "## This code can be used to run the camera feed and logging concurrently\n"
   ]
  },
  {
   "cell_type": "code",
   "execution_count": null,
   "metadata": {},
   "outputs": [],
   "source": [
    "# Install requirements\n",
    "# to run the code, the following are required, and should be installed in a new environment:\n",
    "\n",
    "# create new environment\n",
    "%conda create -n \"park-3.9\" python=3.9 ipython\n",
    "# activate environment\n",
    "%conda activate park-3.9\n",
    "# install package\n",
    "%conda install numpy\n",
    "# install requirements.txt\n",
    "%pip install -r requirements.txt --verbose\n",
    "# install ipykernel\n",
    "%conda install -n park-3.9 ipykernel --update-deps --force-reinstall\n",
    "# install libraries that reads text from images\n",
    "%pip install easyocr==1.6.2\n",
    "%conda install pytesseract=0.3.10 -y\n",
    "\n",
    "# Code that detects license plates:\n",
    "# https://github.com/deepakat002/numberplaterecognition\n",
    "\n",
    "# Model to read text from images: (best_submission.pt)\n",
    "# Model to license plates: https://www.kaggle.com/code/priyammehta/license-plate-detection-using-yolov5/data\n",
    "# the navigate to \"yolo-models\" -> \"my-submission\" -> \"best_submission.pt\""
   ]
  },
  {
   "cell_type": "code",
   "execution_count": 1,
   "metadata": {},
   "outputs": [
    {
     "name": "stderr",
     "output_type": "stream",
     "text": [
      "/opt/homebrew/Caskroom/miniforge/base/envs/park-3.9/lib/python3.9/site-packages/tqdm/auto.py:22: TqdmWarning: IProgress not found. Please update jupyter and ipywidgets. See https://ipywidgets.readthedocs.io/en/stable/user_install.html\n",
      "  from .autonotebook import tqdm as notebook_tqdm\n",
      "CUDA not available - defaulting to CPU. Note: This module is much faster with a GPU.\n"
     ]
    },
    {
     "name": "stdout",
     "output_type": "stream",
     "text": [
      "Starting process 1: video recording and tracking of cars, saving images and data to csv\n",
      "Starting process 2: fetching from csv file and logging to database\n"
     ]
    },
    {
     "name": "stderr",
     "output_type": "stream",
     "text": [
      "CUDA not available - defaulting to CPU. Note: This module is much faster with a GPU.\n",
      "\u001b[34m\u001b[1mtrack_sort: \u001b[0myolo_weights=/Users/alex/Library/Mobile Documents/com~apple~CloudDocs/UiA/ikt452_comp_vis/park-it/weights/yolov5n.pt, reid_weights=/Users/alex/Library/Mobile Documents/com~apple~CloudDocs/UiA/ikt452_comp_vis/park-it/weights/osnet_x0_25_msmt17.pt, tracking_method=strongsort, source=IMG_0346.mp4, imgsz=[640, 640], conf_thres=0.5, iou_thres=0.5, max_det=1000, device=, show_vid=True, save_txt=True, save_conf=False, save_crop=False, save_vid=False, nosave=False, classes=[2], agnostic_nms=False, augment=False, visualize=False, update=False, project=/Users/alex/Library/Mobile Documents/com~apple~CloudDocs/UiA/ikt452_comp_vis/park-it/runs/track, name=exp, line_thickness=2, hide_labels=False, hide_conf=False, hide_class=False, half=False, dnn=False, vid_stride=1\n",
      "YOLOv5 🚀 2022-12-2 Python-3.9.15 torch-1.13.0 CPU\n",
      "\n",
      "Fusing layers... \n",
      "YOLOv5n summary: 213 layers, 1867405 parameters, 0 gradients\n"
     ]
    },
    {
     "name": "stdout",
     "output_type": "stream",
     "text": [
      "Successfully loaded pretrained weights from \"/Users/alex/Library/Mobile Documents/com~apple~CloudDocs/UiA/ikt452_comp_vis/park-it/weights/osnet_x0_25_msmt17.pt\"\n",
      "** The following layers are discarded due to unmatched keys or layer size: ['classifier.weight', 'classifier.bias']\n",
      "[None]\n"
     ]
    },
    {
     "name": "stderr",
     "output_type": "stream",
     "text": [
      "YOLOv5 🚀 2022-12-2 Python-3.9.15 torch-1.13.0 CPU\n",
      "\n",
      "Fusing layers... \n",
      "YOLOv5s summary: 232 layers, 7246518 parameters, 0 gradients\n",
      "Adding AutoShape... \n"
     ]
    },
    {
     "name": "stdout",
     "output_type": "stream",
     "text": [
      "Text prediction using EasyOCR:  PD 32939\n",
      "Text prediction using EasyOCR:  PD 32939\n",
      "Text prediction using EasyOCR:  PD 32939\n",
      "detected_license_plate:  PD32939\n",
      "the car with license plate PD32939 driving in\n",
      "\n",
      "--------------------------------------------------\n",
      "Cars in the parking lot:\n",
      "  Plate Number        Date and time\n",
      "0      PD32939  06/12/2022 09:42:56\n",
      "Number of available parking spots:  49\n",
      "Text prediction using EasyOCR:  PD 32939\n",
      "Text prediction using EasyOCR:  PD 32939\n",
      "Text prediction using EasyOCR:  PD32939\n",
      "detected_license_plate:  PD32939\n",
      "the car with license plate PD32939 driving out\n",
      "  Plate Number        Drive in time       Drive out time Duration\n",
      "0      PD32939  05/12/2022 22:39:13  05/12/2022 22:39:43  0:00:30\n",
      "1      PD32939  05/12/2022 22:39:13  05/12/2022 22:39:43  0:00:30\n",
      "2      PD32939  05/12/2022 22:53:50  05/12/2022 22:54:19  0:00:29\n",
      "3      PD32939  05/12/2022 22:57:45  05/12/2022 22:58:15  0:00:30\n",
      "4      PD32939  05/12/2022 23:07:21  05/12/2022 23:07:48  0:00:27\n",
      "5      PD32939  06/12/2022 09:36:52  06/12/2022 09:37:21  0:00:29\n",
      "6      PD32939  06/12/2022 09:42:56  06/12/2022 09:43:25  0:00:29\n",
      "Killing process 1\n",
      "Killing process 2\n"
     ]
    }
   ],
   "source": [
    "from fetching.multiprocessing import logging_cars\n",
    "from fetching.track_sort import track_cars\n",
    "from multiprocessing import Process\n",
    "import time\n",
    "\n",
    "if __name__ ==  '__main__':\n",
    "    show_video = True\n",
    "    p1 = Process(target=track_cars, args=('IMG_0346.mp4', 0.98, 0.75, 150, 150, show_video,))\n",
    "    p2 = Process(target=logging_cars)\n",
    "\n",
    "    print(\"Starting process 1: video recording and tracking of cars, saving images and data to csv\")\n",
    "    p1.start()\n",
    "\n",
    "    print(\"Starting process 2: fetching from csv file and logging to database\")\n",
    "    p2.start()\n",
    "\n",
    "\n",
    "    # kill the processes\n",
    "    time.sleep(55)\n",
    "    print(\"Killing process 1\")\n",
    "    p1.terminate()\n",
    "    # time.sleep(10)\n",
    "    print(\"Killing process 2\")\n",
    "    p2.terminate()\n",
    "\n",
    "\n"
   ]
  }
 ],
 "metadata": {
  "kernelspec": {
   "display_name": "Python 3.9.15 ('park-3.9')",
   "language": "python",
   "name": "python3"
  },
  "language_info": {
   "codemirror_mode": {
    "name": "ipython",
    "version": 3
   },
   "file_extension": ".py",
   "mimetype": "text/x-python",
   "name": "python",
   "nbconvert_exporter": "python",
   "pygments_lexer": "ipython3",
   "version": "3.9.15"
  },
  "orig_nbformat": 4,
  "vscode": {
   "interpreter": {
    "hash": "8c78971681c6377feb4c3618006d2345508a16adb1ec61e460d27689553b2b85"
   }
  }
 },
 "nbformat": 4,
 "nbformat_minor": 2
}
